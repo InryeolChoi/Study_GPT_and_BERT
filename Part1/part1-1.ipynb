{
 "cells": [
  {
   "cell_type": "markdown",
   "metadata": {},
   "source": [
    "# 1-1. NLP with Deep Learning\n",
    "\n",
    "- 딥러닝 : 은닉층(neural net)을 사용.\n",
    "- 자연어를 입력받아 확률로 출력한 뒤, 후처리를 하는 구조\n",
    "- BERT와 GPT 모델이 대표적인 예시\n",
    "\n",
    "\n",
    "## 학습방식\n",
    "1. 모델 준비 : 레이블을 달아 놓은 자료가 있어야 한다.\n",
    "2. 패턴 학습\n",
    "3. 모델의 업데이트\n",
    "4. 반복"
   ]
  }
 ],
 "metadata": {
  "language_info": {
   "name": "python"
  }
 },
 "nbformat": 4,
 "nbformat_minor": 2
}
